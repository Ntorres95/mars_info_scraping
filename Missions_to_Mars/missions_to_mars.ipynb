{
 "cells": [
  {
   "cell_type": "code",
   "execution_count": 1,
   "metadata": {},
   "outputs": [],
   "source": [
    "# Dependencies\n",
    "from bs4 import BeautifulSoup\n",
    "import requests\n",
    "from splinter import Browser\n",
    "import pandas as pd"
   ]
  },
  {
   "cell_type": "code",
   "execution_count": 2,
   "metadata": {},
   "outputs": [],
   "source": [
    "#url where we're pulling the info from\n",
    "nasa_url = \"https://mars.nasa.gov/news/\"\n",
    "jpl_url = \"https://www.jpl.nasa.gov/spaceimages/?search=&category=Mars\"\n",
    "facts_url = \"https://space-facts.com/mars/\"\n",
    "hemi_url = \"https://astrogeology.usgs.gov/search/results?q=hemisphere+enhanced&k1=target&v1=Mars\""
   ]
  },
  {
   "cell_type": "code",
   "execution_count": 3,
   "metadata": {},
   "outputs": [],
   "source": [
    "#requests from the nasa url\n",
    "nasa_response = requests.get(nasa_url)\n",
    "\n",
    "#bs of the nasa_response\n",
    "nasa_soup = BeautifulSoup(nasa_response.text, 'html.parser')"
   ]
  },
  {
   "cell_type": "code",
   "execution_count": 4,
   "metadata": {},
   "outputs": [],
   "source": [
    "#santiy check\n",
    "#print(nasa_soup.prettify())"
   ]
  },
  {
   "cell_type": "code",
   "execution_count": 5,
   "metadata": {},
   "outputs": [],
   "source": [
    "#get the title and content of the latest article\n",
    "news_title = nasa_soup.find('div', class_=\"content_title\").a.text\n",
    "news_p = nasa_soup.find('div', class_=\"rollover_description_inner\").text\n",
    "\n",
    "#sanity check\n",
    "#print(news_title)\n",
    "#print(news_p)"
   ]
  },
  {
   "cell_type": "code",
   "execution_count": 16,
   "metadata": {},
   "outputs": [],
   "source": [
    "executable_path = {'executable_path': '/usr/local/bin/chromedriver'}\n",
    "browser = Browser('chrome', **executable_path, headless=False)\n",
    "\n",
    "#using splinter to navigate to jpl images site\n",
    "browser.visit(jpl_url)\n",
    "\n",
    "#click the Full Image link\n",
    "browser.click_link_by_partial_text('FULL IMAGE')\n",
    "\n",
    "#click the more info link\n",
    "browser.click_link_by_partial_text('more info')\n",
    "\n",
    "#click the image to get the full size image url\n",
    "browser.click_link_by_partial_href('/spaceimages/images')\n",
    "\n",
    "#save the url of the full size image\n",
    "featured_image_url = browser.url\n",
    "\n",
    "#close the browser\n",
    "browser.quit()\n",
    "\n",
    "#sanity check\n",
    "#print(featured_image_url)"
   ]
  },
  {
   "cell_type": "code",
   "execution_count": 8,
   "metadata": {},
   "outputs": [],
   "source": [
    "#scrape the facts about mars\n",
    "#request for the facts url\n",
    "facts_response = requests.get(facts_url)\n",
    "\n",
    "#bs of the facts response\n",
    "fact_soup = BeautifulSoup(facts_response.text, 'html')\n",
    "\n",
    "#sanity check\n",
    "#print(fact_soup)"
   ]
  },
  {
   "cell_type": "code",
   "execution_count": 9,
   "metadata": {},
   "outputs": [],
   "source": [
    "#get onl the column 2's\n",
    "columns = fact_soup.find_all('td', class_='column-2')\n",
    "\n",
    "#sanity check\n",
    "#print(columns[1].text)\n",
    "\n",
    "#save the equatorial diameter\n",
    "equa_d = columns[0].text\n",
    "\n",
    "#save the  diameter\n",
    "polar_d = columns[1].text\n",
    "\n",
    "#save the mass\n",
    "mass = columns[2].text\n",
    "\n",
    "#save the moons\n",
    "moons = columns[3].text\n",
    "\n",
    "#save the orbit distance\n",
    "orb_d = columns[4].text\n",
    "\n",
    "#save the orbit period\n",
    "orb_p = columns[5].text\n",
    "\n",
    "#save the surface temp\n",
    "surf_t = columns[6].text\n",
    "\n",
    "#save the first record\n",
    "first_rec = columns[7].text\n",
    "\n",
    "#save the recorded by\n",
    "rec_by = columns[8].text\n",
    "\n",
    "#sanity check\n",
    "#print(rec_by)"
   ]
  },
  {
   "cell_type": "code",
   "execution_count": 10,
   "metadata": {},
   "outputs": [],
   "source": [
    "facts_dict = {\"Equatorial Diameter\":[equa_d],\n",
    "             \"Polar Diameter\":[polar_d],\n",
    "             \"Mass\":[mass],\n",
    "             \"Moons\":[moons],\n",
    "             \"Orbital Diameter\":[orb_d],\n",
    "             \"Orbital Period\":[orb_p],\n",
    "             \"Surface Temperature\":[surf_t],\n",
    "             \"First Record\":[first_rec],\n",
    "             \"Recorded By\":[rec_by]}"
   ]
  },
  {
   "cell_type": "code",
   "execution_count": 11,
   "metadata": {},
   "outputs": [],
   "source": [
    "#create a facts df to be converted\n",
    "facts_df = pd.DataFrame(facts_dict)\n",
    "\n",
    "#sanity check\n",
    "#print(facts_df.head)\n",
    "\n",
    "#convert to html\n",
    "html_table = facts_df.to_html\n",
    "\n",
    "#sanity check\n",
    "#print(html_table)"
   ]
  },
  {
   "cell_type": "code",
   "execution_count": 35,
   "metadata": {},
   "outputs": [
    {
     "name": "stderr",
     "output_type": "stream",
     "text": [
      "/Users/noetorres/opt/miniconda3/envs/PythonData/lib/python3.6/site-packages/splinter/driver/webdriver/__init__.py:493: FutureWarning: browser.find_link_by_partial_text is deprecated. Use browser.links.find_by_partial_text instead.\n",
      "  FutureWarning,\n",
      "/Users/noetorres/opt/miniconda3/envs/PythonData/lib/python3.6/site-packages/splinter/driver/webdriver/__init__.py:501: FutureWarning: browser.find_link_by_text is deprecated. Use browser.links.find_by_text instead.\n",
      "  FutureWarning,\n"
     ]
    },
    {
     "name": "stdout",
     "output_type": "stream",
     "text": [
      "[{'title': 'Valles Marineris Hemisphere Enhanced', 'img_url': 'https://astrogeology.usgs.gov/search/map/Mars/Viking/valles_marineris_enhanced'}, {'title': 'Cerberus Hemisphere Enhanced', 'img_url': 'https://astrogeology.usgs.gov/search/map/Mars/Viking/cerberus_enhanced'}, {'title': 'Schiaparelli Hemisphere Enhanced', 'img_url': 'https://astrogeology.usgs.gov/search/map/Mars/Viking/schiaparelli_enhanced'}, {'title': 'Syrtis Major Hemisphere Enhanced', 'img_url': 'https://astrogeology.usgs.gov/search/map/Mars/Viking/syrtis_major_enhanced'}]\n"
     ]
    }
   ],
   "source": [
    "#list for the hemisphere image urls\n",
    "hemisphere_image_urls = []\n",
    "\n",
    "#dict for the \n",
    "\n",
    "#list of hemisphere image names\n",
    "names = [\"Valles Marineris Hemisphere Enhanced\",\n",
    "         \"Cerberus Hemisphere Enhanced\",\n",
    "         \"Schiaparelli Hemisphere Enhanced\",\n",
    "        \"Syrtis Major Hemisphere Enhanced\"]\n",
    "\n",
    "executable_path = {'executable_path': '/usr/local/bin/chromedriver'}\n",
    "browser = Browser('chrome', **executable_path, headless=False)\n",
    "\n",
    "#using splinter to navigate to hemispheres site\n",
    "browser.visit(hemi_url)\n",
    "\n",
    "#loop to cycle through all the pages\n",
    "for name in names:\n",
    "\n",
    "    #click the image links\n",
    "    browser.click_link_by_partial_text(name)\n",
    "\n",
    "    #click the Sample button to get the full size image url\n",
    "    browser.click_link_by_text('Sample')\n",
    "\n",
    "    #save the browser url\n",
    "    img_url = browser.url\n",
    "    \n",
    "    #sanity check\n",
    "    #print(img_url)\n",
    "    \n",
    "    #append the list\n",
    "    hemisphere_image_urls.append({\"title\": name, \"img_url\": img_url})\n",
    "    \n",
    "    #return to the original url\n",
    "    browser.visit(hemi_url)\n",
    "    \n",
    "#close the browser\n",
    "browser.quit()\n",
    "\n",
    "#sanity check\n",
    "#print(hemisphere_image_urls)"
   ]
  },
  {
   "cell_type": "code",
   "execution_count": null,
   "metadata": {},
   "outputs": [],
   "source": []
  }
 ],
 "metadata": {
  "kernelspec": {
   "display_name": "Python 3",
   "language": "python",
   "name": "python3"
  },
  "language_info": {
   "codemirror_mode": {
    "name": "ipython",
    "version": 3
   },
   "file_extension": ".py",
   "mimetype": "text/x-python",
   "name": "python",
   "nbconvert_exporter": "python",
   "pygments_lexer": "ipython3",
   "version": "3.6.10"
  }
 },
 "nbformat": 4,
 "nbformat_minor": 4
}
